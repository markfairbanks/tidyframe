{
 "cells": [
  {
   "cell_type": "markdown",
   "source": [
    "## Example usage\n",
    "\n",
    "`tidypolars` syntax is designed to be as familiar as possible to R tidyverse users."
   ],
   "metadata": {}
  },
  {
   "cell_type": "code",
   "execution_count": null,
   "source": [
    "import tidypolars as tp\n",
    "from tidypolars as col\n",
    "\n",
    "# Create a data frame\n",
    "df = tp.Tibble({'x': range(3), 'y': range(3, 6), 'z': ['a', 'a', 'b']})\n",
    "\n",
    "# select columns\n",
    "df.select('x', 'y', 'z')\n",
    "\n",
    "# filter rows\n",
    "df.filter(col('x') < 4, col('y') > 0)\n",
    "\n",
    "# Add/edit columns\n",
    "df.mutate(double_x = col('x') * 2,\n",
    "          x_plus_y = col('x') + col('y'))\n",
    "\n",
    "# arrange/sort rows\n",
    "df.arrange('z', 'x')\n",
    "df.arrange('z', 'x', desc = [True, False])\n",
    "\n",
    "# summarize data\n",
    "df.summarize(avg_x = col('x').mean())"
   ],
   "outputs": [],
   "metadata": {}
  },
  {
   "cell_type": "markdown",
   "source": [
    "### Using `groupby`\n",
    "\n",
    "Methods operate by group by calling the `groupby` arg.\n",
    "\n",
    "* A single column can be passed with `groupby = 'z'`\n",
    "* Multiple columns can be passed with `groupby = ['y', 'z']`\n",
    "\n",
    "Below is an example of using `groupby` with `.summarize()` and `.filter()`, but there are more methods with `groupby` built in."
   ],
   "metadata": {}
  },
  {
   "cell_type": "code",
   "execution_count": null,
   "source": [
    "# Using groupby with summarize\n",
    "df.summarize(avg_x = col('x').mean(),\n",
    "             groupby = 'z'))"
   ],
   "outputs": [],
   "metadata": {}
  },
  {
   "cell_type": "code",
   "execution_count": null,
   "source": [
    "# Using groupby with filter\n",
    "df.filter(col('x') < col('x').mean(), groupby = 'z')"
   ],
   "outputs": [],
   "metadata": {}
  }
 ],
 "metadata": {
  "kernelspec": {
   "name": "python3",
   "display_name": "Python 3.9.7 64-bit ('tidypolars': conda)"
  },
  "language_info": {
   "codemirror_mode": {
    "name": "ipython",
    "version": 3
   },
   "file_extension": ".py",
   "mimetype": "text/x-python",
   "name": "python",
   "nbconvert_exporter": "python",
   "pygments_lexer": "ipython3",
   "version": "3.9.7"
  },
  "interpreter": {
   "hash": "7e7b68015f9d8cfe97f3656e79d88495dc5e9a356cb119d288e46a1ea1a6c23c"
  }
 },
 "nbformat": 4,
 "nbformat_minor": 4
}